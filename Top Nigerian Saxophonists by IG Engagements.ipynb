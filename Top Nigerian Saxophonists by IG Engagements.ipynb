{
 "cells": [
  {
   "cell_type": "code",
   "execution_count": 43,
   "id": "ea921335-750c-428f-aa46-1c52054f86b7",
   "metadata": {},
   "outputs": [
    {
     "data": {
      "text/html": [
       "<div>\n",
       "<style scoped>\n",
       "    .dataframe tbody tr th:only-of-type {\n",
       "        vertical-align: middle;\n",
       "    }\n",
       "\n",
       "    .dataframe tbody tr th {\n",
       "        vertical-align: top;\n",
       "    }\n",
       "\n",
       "    .dataframe thead th {\n",
       "        text-align: right;\n",
       "    }\n",
       "</style>\n",
       "<table border=\"1\" class=\"dataframe\">\n",
       "  <thead>\n",
       "    <tr style=\"text-align: right;\">\n",
       "      <th></th>\n",
       "      <th>Usernames</th>\n",
       "      <th>Followers</th>\n",
       "      <th>Following</th>\n",
       "      <th>Posts</th>\n",
       "    </tr>\n",
       "  </thead>\n",
       "  <tbody>\n",
       "    <tr>\n",
       "      <th>0</th>\n",
       "      <td>jerryomole</td>\n",
       "      <td>20304</td>\n",
       "      <td>706</td>\n",
       "      <td>1171</td>\n",
       "    </tr>\n",
       "    <tr>\n",
       "      <th>1</th>\n",
       "      <td>mikearemu</td>\n",
       "      <td>58102</td>\n",
       "      <td>1830</td>\n",
       "      <td>1557</td>\n",
       "    </tr>\n",
       "    <tr>\n",
       "      <th>2</th>\n",
       "      <td>beejaysaxb</td>\n",
       "      <td>209107</td>\n",
       "      <td>1576</td>\n",
       "      <td>4522</td>\n",
       "    </tr>\n",
       "    <tr>\n",
       "      <th>3</th>\n",
       "      <td>yemisaxboss</td>\n",
       "      <td>36539</td>\n",
       "      <td>3005</td>\n",
       "      <td>1046</td>\n",
       "    </tr>\n",
       "    <tr>\n",
       "      <th>4</th>\n",
       "      <td>olujazz</td>\n",
       "      <td>25809</td>\n",
       "      <td>3108</td>\n",
       "      <td>1873</td>\n",
       "    </tr>\n",
       "  </tbody>\n",
       "</table>\n",
       "</div>"
      ],
      "text/plain": [
       "     Usernames  Followers  Following  Posts\n",
       "0   jerryomole      20304        706   1171\n",
       "1    mikearemu      58102       1830   1557\n",
       "2   beejaysaxb     209107       1576   4522\n",
       "3  yemisaxboss      36539       3005   1046\n",
       "4      olujazz      25809       3108   1873"
      ]
     },
     "execution_count": 43,
     "metadata": {},
     "output_type": "execute_result"
    }
   ],
   "source": [
    "import pandas as pd\n",
    "from instagramy.plugins.analysis import analyze_users_popularity, analyze_user_recent_posts\n",
    "\n",
    "session_id = \"12115787118:n6IgQ0ZWFj58yM:17\"\n",
    "\n",
    "teams = [\"jerryomole\", \"mikearemu\", \"beejaysaxb\", \"yemisaxboss\", \"olujazz\"]\n",
    "data = analyze_users_popularity(teams, session_id)\n",
    "pd.DataFrame(data)"
   ]
  },
  {
   "cell_type": "code",
   "execution_count": 45,
   "id": "12fe8f71-242e-44c8-9da9-41a8053f77b7",
   "metadata": {},
   "outputs": [
    {
     "data": {
      "image/png": "[encoded data removed]",
      "text/plain": [
       "<Figure size 432x288 with 1 Axes>"
      ]
     },
     "metadata": {
      "needs_background": "light"
     },
     "output_type": "display_data"
    }
   ],
   "source": [
    "import matplotlib.pyplot as plt\n",
    "Usernames = [1, 2, 3, 4, 5]\n",
    "followers = [20304, 58100, 209083, 36537, 25801]\n",
    "saxophonist = ['jerryomole', 'mikearemu', 'beejaysaxb', 'yemisaxboss', 'olujazz']\n",
    "plt.bar(Usernames, height, tick_label = tick_label, width = 0.7, color = ['red', 'blue'])\n",
    "plt.xlabel('saxophonists')\n",
    "plt.ylabel('followers')\n",
    "plt.title('Top Nigerian Saxophonist by IG Followers')\n",
    "plt.show()"
   ]
  },
  {
   "cell_type": "code",
   "execution_count": 48,
   "id": "e94faa45-67b8-48c9-927a-2d95f72e6320",
   "metadata": {},
   "outputs": [
    {
     "data": {
      "image/png": "[encoded data removed]",
      "text/plain": [
       "<Figure size 432x288 with 1 Axes>"
      ]
     },
     "metadata": {
      "needs_background": "light"
     },
     "output_type": "display_data"
    }
   ],
   "source": [
    "import matplotlib.pyplot as plt\n",
    "Usernames = [1, 2, 3, 4, 5]\n",
    "height = [1171, 1557, 4522, 1046, 1873]\n",
    "tick_label = ['jerryomole', 'mikearemu', 'beejaysaxb', 'yemisaxboss', 'olujazz']\n",
    "plt.bar(Usernames, height, tick_label = tick_label, width = 0.7, color = ['orange', 'black'])\n",
    "plt.xlabel('saxophonists')\n",
    "plt.ylabel('posts')\n",
    "plt.title('Top Nigerian Saxophonist by IG Followers')\n",
    "plt.show()"
   ]
  },
  {
   "cell_type": "code",
   "execution_count": null,
   "id": "e17171c1-6803-40e3-a975-742c923175c6",
   "metadata": {},
   "outputs": [],
   "source": []
  }
 ],
 "metadata": {
  "kernelspec": {
   "display_name": "Python 3 (ipykernel)",
   "language": "python",
   "name": "python3"
  },
  "language_info": {
   "codemirror_mode": {
    "name": "ipython",
    "version": 3
   },
   "file_extension": ".py",
   "mimetype": "text/x-python",
   "name": "python",
   "nbconvert_exporter": "python",
   "pygments_lexer": "ipython3",
   "version": "3.9.12"
  }
 },
 "nbformat": 4,
 "nbformat_minor": 5
}
